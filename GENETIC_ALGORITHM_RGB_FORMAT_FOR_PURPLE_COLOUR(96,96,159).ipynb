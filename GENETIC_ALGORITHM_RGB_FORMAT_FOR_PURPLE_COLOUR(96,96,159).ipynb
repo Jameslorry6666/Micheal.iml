{
  "nbformat": 4,
  "nbformat_minor": 0,
  "metadata": {
    "colab": {
      "provenance": [],
      "gpuType": "T4",
      "authorship_tag": "ABX9TyPaKTTTSK3p67N6iL9Dw7vY",
      "include_colab_link": true
    },
    "kernelspec": {
      "name": "python3",
      "display_name": "Python 3"
    },
    "language_info": {
      "name": "python"
    },
    "accelerator": "GPU"
  },
  "cells": [
    {
      "cell_type": "markdown",
      "metadata": {
        "id": "view-in-github",
        "colab_type": "text"
      },
      "source": [
        "<a href=\"https://colab.research.google.com/github/Jameslorry6666/Micheal.iml/blob/master/GENETIC_ALGORITHM_RGB_FORMAT_FOR_PURPLE_COLOUR(96%2C96%2C159).ipynb\" target=\"_parent\"><img src=\"https://colab.research.google.com/assets/colab-badge.svg\" alt=\"Open In Colab\"/></a>"
      ]
    },
    {
      "cell_type": "code",
      "execution_count": null,
      "metadata": {
        "id": "ee1vZ8f57PvC"
      },
      "outputs": [],
      "source": [
        "# Task Using a genetic algorithm, find an individual whose genes correspond, in RGB format, to the color purple (96, 96, 159)"
      ]
    },
    {
      "cell_type": "code",
      "source": [
        "import random\n",
        "from random import choices\n",
        "import webcolors\n"
      ],
      "metadata": {
        "id": "ZaJIeY9N7agI"
      },
      "execution_count": 42,
      "outputs": []
    },
    {
      "cell_type": "code",
      "source": [
        "# Define the size of the population and the number of generations\n",
        "population_size = 100\n",
        "num_generations = 1000\n",
        "target_color = (96,96,159) #purple"
      ],
      "metadata": {
        "id": "MaML95FV_Kdx"
      },
      "execution_count": 43,
      "outputs": []
    },
    {
      "cell_type": "code",
      "source": [
        "# Define a list of colors to compare against\n",
        "colors = {\n",
        "    'purple': (96,96,159),\n",
        "    'green': (0, 255, 0),\n",
        "    'blue': (0, 0, 255),\n",
        "    'yellow': (255, 255, 0),\n",
        "    'cyan': (0, 255, 255),\n",
        "    'magenta': (255, 0, 255),\n",
        "    'white': (255, 255, 255),\n",
        "    'black': (0, 0, 0)\n",
        "}"
      ],
      "metadata": {
        "id": "ESUxyqRjSEPT"
      },
      "execution_count": 44,
      "outputs": []
    },
    {
      "cell_type": "code",
      "source": [
        "# Find the closest color match to the target color\n",
        "closest_color = None\n",
        "min_distance = float('inf')\n",
        "for name, color in colors.items():\n",
        "    distance = sum((a - b) ** 2 for a, b in zip(color, target_color))\n",
        "    if distance < min_distance:\n",
        "        closest_color = name\n",
        "        min_distance = distance\n"
      ],
      "metadata": {
        "id": "uXzfNTwHSXaA"
      },
      "execution_count": 45,
      "outputs": []
    },
    {
      "cell_type": "code",
      "source": [
        "# Define the mutation rate (the probability of a gene being mutated)\n",
        "mutation_rate = 0.01"
      ],
      "metadata": {
        "id": "B4Xc39Sw7uT_"
      },
      "execution_count": 46,
      "outputs": []
    },
    {
      "cell_type": "code",
      "source": [
        "# Define the fitness function (the inverse of the Euclidean distance between the color and the individual)\n",
        "def fitness(individual):\n",
        "    distance = ((individual[0] - target_color[0])**2 + (individual[1] - target_color[1])**2 + (individual[2] - target_color[2])**2)**0.5\n",
        "    return 1 / (distance + 1)\n"
      ],
      "metadata": {
        "id": "SKQAoHT5NmUu"
      },
      "execution_count": 47,
      "outputs": []
    },
    {
      "cell_type": "code",
      "source": [
        "## Define the fitness function (the inverse of the Euclidean distance between the color and the individual)\n",
        "#def fitness(individual):\n",
        "    #distance = ((individual[0] - target_color[0])**2 + (individual[1] - target_color[1])**2 + (individual[2] - target_color[2])**2)**0.5\n",
        "    #return 1 / (distance + 1)\n"
      ],
      "metadata": {
        "id": "BSQ-YJB876rH"
      },
      "execution_count": 48,
      "outputs": []
    },
    {
      "cell_type": "code",
      "source": [
        "# Define the crossover function (combine two parent individuals)\n",
        "def crossover(parent1, parent2):\n",
        "    crossover_point = random.randint(0, 2)\n",
        "    child = parent1[:crossover_point] + parent2[crossover_point:]\n",
        "    return child"
      ],
      "metadata": {
        "id": "zGDDfNuI7-bo"
      },
      "execution_count": 49,
      "outputs": []
    },
    {
      "cell_type": "code",
      "source": [
        "# Define the mutation function (randomly change a gene)\n",
        "def mutate(individual):\n",
        "    mutated_individual = list(individual)\n",
        "    for i in range(3):\n",
        "        if random.random() < mutation_rate:\n",
        "            mutated_individual[i] = random.randint(0, 255)\n",
        "    return tuple(mutated_individual)\n"
      ],
      "metadata": {
        "id": "h0QEzTF58CTf"
      },
      "execution_count": 50,
      "outputs": []
    },
    {
      "cell_type": "code",
      "source": [
        "# Initialize the population with random individuals\n",
        "population = [(random.randint(0, 255), random.randint(0, 255), random.randint(0, 255)) for _ in range(population_size)]"
      ],
      "metadata": {
        "id": "TO-vw5XS8GgH"
      },
      "execution_count": 51,
      "outputs": []
    },
    {
      "cell_type": "code",
      "source": [
        "# Main loop\n",
        "for generation in range(num_generations):\n",
        "    # Evaluate the fitness of each individual\n",
        "    fitness_scores = [fitness(individual) for individual in population]\n",
        ""
      ],
      "metadata": {
        "id": "8ReDrc9p8Mm-"
      },
      "execution_count": 52,
      "outputs": []
    },
    {
      "cell_type": "code",
      "source": [
        "# Select the fittest individuals to be parents\n",
        "parents = [population[i] for i in range(population_size) if fitness_scores[i] == max(fitness_scores)]"
      ],
      "metadata": {
        "id": "URvVr85v8RcP"
      },
      "execution_count": 53,
      "outputs": []
    },
    {
      "cell_type": "code",
      "source": [
        "# Create the next generation by crossover and mutation\n",
        "next_generation = []\n",
        "while len(next_generation) < population_size:\n",
        "        parent1 = random.choice(parents)\n",
        "        parent2 = random.choice(parents)\n",
        "        child = crossover(parent1, parent2)\n",
        "        child = mutate(child)\n",
        "        next_generation.append(child)"
      ],
      "metadata": {
        "id": "nSwGHKA0GFsg"
      },
      "execution_count": 54,
      "outputs": []
    },
    {
      "cell_type": "code",
      "source": [
        "# Replace the old population with the new generation\n",
        "population = next_generation"
      ],
      "metadata": {
        "id": "leZQ7EfJGNfe"
      },
      "execution_count": 55,
      "outputs": []
    },
    {
      "cell_type": "code",
      "source": [
        "# Check if we have found the target color\n",
        "if target_color in population:\n",
        "        print(\"Found the target color in generation\", generation)\n",
        "\n",
        "else:\n",
        "    # Print the closest color match\n",
        "    print(f\"The closest color to {webcolors.rgb_to_hex(target_color)} is {closest_color}.\")\n",
        "\n"
      ],
      "metadata": {
        "colab": {
          "base_uri": "https://localhost:8080/"
        },
        "id": "thLjvG9CGTDX",
        "outputId": "ad55b3f4-44b6-4473-e564-5c09ff314679"
      },
      "execution_count": 57,
      "outputs": [
        {
          "output_type": "stream",
          "name": "stdout",
          "text": [
            "The closest color to #60609f is purple.\n"
          ]
        }
      ]
    }
  ]
}