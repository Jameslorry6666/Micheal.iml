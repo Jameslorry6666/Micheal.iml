{
  "nbformat": 4,
  "nbformat_minor": 0,
  "metadata": {
    "colab": {
      "provenance": [],
      "authorship_tag": "ABX9TyO2/5oL9FjGMwdDIWLPwh/S",
      "include_colab_link": true
    },
    "kernelspec": {
      "name": "python3",
      "display_name": "Python 3"
    },
    "language_info": {
      "name": "python"
    }
  },
  "cells": [
    {
      "cell_type": "markdown",
      "metadata": {
        "id": "view-in-github",
        "colab_type": "text"
      },
      "source": [
        "<a href=\"https://colab.research.google.com/github/Jameslorry6666/Micheal.iml/blob/master/GENETIC_ALGORITHM_GENERATING_%22WORLD%22.ipynb\" target=\"_parent\"><img src=\"https://colab.research.google.com/assets/colab-badge.svg\" alt=\"Open In Colab\"/></a>"
      ]
    },
    {
      "cell_type": "code",
      "execution_count": 28,
      "metadata": {
        "id": "Iecq8Q0n4DPM"
      },
      "outputs": [],
      "source": [
        "#Generate the word “WORLD” using a genetic algorithm.\n",
        "import random"
      ]
    },
    {
      "cell_type": "code",
      "source": [
        "# Define the target word\n",
        "target_word = \"WORLD\""
      ],
      "metadata": {
        "id": "LynQX5jO4TaY"
      },
      "execution_count": 29,
      "outputs": []
    },
    {
      "cell_type": "code",
      "source": [
        "# Define the size of the population and the number of generations\n",
        "population_size = 100\n",
        "num_generations = 100000"
      ],
      "metadata": {
        "id": "cMhRBFE44WQW"
      },
      "execution_count": 30,
      "outputs": []
    },
    {
      "cell_type": "code",
      "source": [
        "# Define the mutation rate (the probability of a letter being mutated)\n",
        "mutation_rate = 0.01"
      ],
      "metadata": {
        "id": "EaZlb_fa4ZI2"
      },
      "execution_count": 31,
      "outputs": []
    },
    {
      "cell_type": "code",
      "source": [
        "# Define the fitness function (the number of matching letters)\n",
        "def fitness(word):\n",
        "    return sum(1 for i in range(len(target_word)) if word[i] == target_word[i])\n"
      ],
      "metadata": {
        "id": "SfcmVZNY4ZV3"
      },
      "execution_count": 32,
      "outputs": []
    },
    {
      "cell_type": "code",
      "source": [
        "# Define the crossover function (combine two parent strings)\n",
        "def crossover(parent1, parent2):\n",
        "    crossover_point = random.randint(0, len(target_word) - 1)\n",
        "    child = parent1[:crossover_point] + parent2[crossover_point:]\n",
        "    return child"
      ],
      "metadata": {
        "id": "3P8qPadi4Zfa"
      },
      "execution_count": 33,
      "outputs": []
    },
    {
      "cell_type": "code",
      "source": [
        "# Define the mutation function (randomly change a letter)\n",
        "def mutate(word):\n",
        "    mutated_word = \"\"\n",
        "    for letter in word:\n",
        "        if random.random() < mutation_rate:\n",
        "            mutated_word += random.choice(\"ABCDEFGHIJKLMNOPQRSTUVWXYZ\")\n",
        "        else:\n",
        "            mutated_word += letter\n",
        "    return mutated_word"
      ],
      "metadata": {
        "id": "dXPLy03K4kPm"
      },
      "execution_count": 34,
      "outputs": []
    },
    {
      "cell_type": "code",
      "source": [
        "# Initialize the population with random strings\n",
        "population = [\"\".join(random.choice(\"ABCDEFGHIJKLMNOPQRSTUVWXYZ\") for _ in range(len(target_word))) for _ in range(population_size)]\n"
      ],
      "metadata": {
        "id": "YO2uItWI4oCn"
      },
      "execution_count": 35,
      "outputs": []
    },
    {
      "cell_type": "code",
      "source": [
        "# Main loop\n",
        "for generation in range(num_generations):\n",
        "    # Evaluate the fitness of each string\n",
        "    fitness_scores = [fitness(word) for word in population]"
      ],
      "metadata": {
        "id": "Ppn8d-AZ4uQ-"
      },
      "execution_count": 36,
      "outputs": []
    },
    {
      "cell_type": "code",
      "source": [
        "# Select the fittest strings to be parents\n",
        "parents = [population[i] for i in range(population_size) if fitness_scores[i] == max(fitness_scores)]\n",
        ""
      ],
      "metadata": {
        "id": "9Wyc1yX04yE3"
      },
      "execution_count": 37,
      "outputs": []
    },
    {
      "cell_type": "code",
      "source": [
        "# Create the next generation by crossover and mutation\n",
        "next_generation = []\n",
        "while len(next_generation) < population_size:\n",
        "        parent1 = random.choice(parents)\n",
        "        parent2 = random.choice(parents)\n",
        "        child = crossover(parent1, parent2)\n",
        "        child = mutate(child)\n",
        "        next_generation.append(child)"
      ],
      "metadata": {
        "id": "BLTf4kEF49H_"
      },
      "execution_count": 38,
      "outputs": []
    },
    {
      "cell_type": "code",
      "source": [
        "# Replace the old population with the new generation\n",
        "population = next_generation"
      ],
      "metadata": {
        "id": "imBzwbCx5GOK"
      },
      "execution_count": 39,
      "outputs": []
    },
    {
      "cell_type": "code",
      "source": [
        "# Check if we have found the target word\n",
        "if target_word in population:\n",
        "      print(\"Found the target word in generation\", generation)\n",
        "\n",
        "else:\n",
        "    print(\"Failed to find the target word in\", num_generations, \"generations\")"
      ],
      "metadata": {
        "colab": {
          "base_uri": "https://localhost:8080/"
        },
        "id": "rYoF_1z35Km_",
        "outputId": "1a7b9e8e-aca0-4b8c-e62a-a78aadea10d7"
      },
      "execution_count": 40,
      "outputs": [
        {
          "output_type": "stream",
          "name": "stdout",
          "text": [
            "Found the target word in generation 99999\n"
          ]
        }
      ]
    }
  ]
}