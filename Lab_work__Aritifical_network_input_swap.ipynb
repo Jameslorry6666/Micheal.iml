{
  "nbformat": 4,
  "nbformat_minor": 0,
  "metadata": {
    "colab": {
      "provenance": [],
      "authorship_tag": "ABX9TyPX264TQ1mBbYk0DxlUC4Xe",
      "include_colab_link": true
    },
    "kernelspec": {
      "name": "python3",
      "display_name": "Python 3"
    },
    "language_info": {
      "name": "python"
    }
  },
  "cells": [
    {
      "cell_type": "markdown",
      "metadata": {
        "id": "view-in-github",
        "colab_type": "text"
      },
      "source": [
        "<a href=\"https://colab.research.google.com/github/Jameslorry6666/Micheal.iml/blob/master/Lab_work__Aritifical_network_input_swap.ipynb\" target=\"_parent\"><img src=\"https://colab.research.google.com/assets/colab-badge.svg\" alt=\"Open In Colab\"/></a>"
      ]
    },
    {
      "cell_type": "code",
      "execution_count": null,
      "metadata": {
        "id": "l_agmOQyVIik"
      },
      "outputs": [],
      "source": [
        "import tensorflow as tf"
      ]
    },
    {
      "cell_type": "code",
      "source": [
        "# Define the input and output data\n",
        "input_data = tf.constant([[0.75, 0.34]])\n",
        "output_data = tf.constant([[0.34, 0.75]])"
      ],
      "metadata": {
        "id": "F9J06liDVWRp"
      },
      "execution_count": null,
      "outputs": []
    },
    {
      "cell_type": "code",
      "source": [
        "# Define the neural network architecture for swapping input signal\n",
        "model = tf.keras.models.Sequential([\n",
        "    tf.keras.layers.Dense(2, input_shape=(2,)),\n",
        "    tf.keras.layers.Activation('linear')\n",
        "])"
      ],
      "metadata": {
        "id": "6HMEu46CVZpo"
      },
      "execution_count": null,
      "outputs": []
    },
    {
      "cell_type": "code",
      "source": [
        "# Compile the model\n",
        "model.compile(optimizer='adam', loss='mse')"
      ],
      "metadata": {
        "id": "V0mgJFEyVpD_"
      },
      "execution_count": null,
      "outputs": []
    },
    {
      "cell_type": "code",
      "source": [
        "# Train the model\n",
        "model.fit(input_data, output_data, epochs=1000, verbose=0)"
      ],
      "metadata": {
        "colab": {
          "base_uri": "https://localhost:8080/"
        },
        "id": "6UgGJ2UWVrxe",
        "outputId": "472aa752-8ba2-4b7a-80e9-276eee26e46c"
      },
      "execution_count": null,
      "outputs": [
        {
          "output_type": "execute_result",
          "data": {
            "text/plain": [
              "<keras.src.callbacks.History at 0x7c9cb86098d0>"
            ]
          },
          "metadata": {},
          "execution_count": 5
        }
      ]
    },
    {
      "cell_type": "code",
      "source": [
        "# Predict the output for the input\n",
        "predicted_output = model.predict(input_data)"
      ],
      "metadata": {
        "colab": {
          "base_uri": "https://localhost:8080/"
        },
        "id": "LBMyu9kQVvqt",
        "outputId": "0b921e6c-e4c7-474c-9b97-5631f5d62a09"
      },
      "execution_count": null,
      "outputs": [
        {
          "output_type": "stream",
          "name": "stdout",
          "text": [
            "1/1 [==============================] - 0s 92ms/step\n"
          ]
        }
      ]
    },
    {
      "cell_type": "code",
      "source": [
        "print(\"Input data:\", input_data.numpy()) #original data input"
      ],
      "metadata": {
        "colab": {
          "base_uri": "https://localhost:8080/"
        },
        "id": "29EeBN7wW6JB",
        "outputId": "b51c03e5-92db-4d9a-ffc4-b8b405192153"
      },
      "execution_count": null,
      "outputs": [
        {
          "output_type": "stream",
          "name": "stdout",
          "text": [
            "Input data: [[0.75 0.34]]\n"
          ]
        }
      ]
    },
    {
      "cell_type": "code",
      "source": [
        "print(\"Output data:\", input_data.numpy())#output swapped with input\n"
      ],
      "metadata": {
        "colab": {
          "base_uri": "https://localhost:8080/"
        },
        "id": "gT6K2zZeWVyA",
        "outputId": "aa374196-9b84-4c8f-8b17-4096c8e088cd"
      },
      "execution_count": null,
      "outputs": [
        {
          "output_type": "stream",
          "name": "stdout",
          "text": [
            "Output data: [[0.75 0.34]]\n"
          ]
        }
      ]
    },
    {
      "cell_type": "code",
      "source": [
        "print(\"Input data:\", input_data.numpy())\n",
        "print(\"Swapped output:\", predicted_output.flatten())"
      ],
      "metadata": {
        "colab": {
          "base_uri": "https://localhost:8080/"
        },
        "id": "KvjzaJGXVydQ",
        "outputId": "c38d7cc1-cdf8-45ec-b5f5-19ca5fc8dd81"
      },
      "execution_count": null,
      "outputs": [
        {
          "output_type": "stream",
          "name": "stdout",
          "text": [
            "Input data: [[0.75 0.34]]\n",
            "Swapped output: [0.3384402 0.7469624]\n"
          ]
        }
      ]
    }
  ]
}