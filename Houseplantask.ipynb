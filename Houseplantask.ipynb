{
  "nbformat": 4,
  "nbformat_minor": 0,
  "metadata": {
    "colab": {
      "provenance": [],
      "authorship_tag": "ABX9TyOfs6cGpJ21iXQq25ICE5FW",
      "include_colab_link": true
    },
    "kernelspec": {
      "name": "python3",
      "display_name": "Python 3"
    },
    "language_info": {
      "name": "python"
    }
  },
  "cells": [
    {
      "cell_type": "markdown",
      "metadata": {
        "id": "view-in-github",
        "colab_type": "text"
      },
      "source": [
        "<a href=\"https://colab.research.google.com/github/Jameslorry6666/Micheal.iml/blob/master/Houseplantask.ipynb\" target=\"_parent\"><img src=\"https://colab.research.google.com/assets/colab-badge.svg\" alt=\"Open In Colab\"/></a>"
      ]
    },
    {
      "cell_type": "code",
      "source": [
        "#creating two(2)rooms, bathroom,living_room & corridor"
      ],
      "metadata": {
        "id": "NDY093IWGmyB"
      },
      "execution_count": 15,
      "outputs": []
    },
    {
      "cell_type": "code",
      "execution_count": 4,
      "metadata": {
        "id": "RESh99e38RwY"
      },
      "outputs": [],
      "source": [
        "class room(object):\n",
        "  def __init__(self):\n",
        "    self.height = 0\n",
        "    self.width = 0\n",
        "    self.periodic = 0\n",
        "    self.breadth = 0\n",
        "    self.name = \"unknown\"\n",
        "    \n"
      ]
    },
    {
      "cell_type": "code",
      "source": [
        "def surface(self):\n",
        "    return self.height/1000 * self.width/1000"
      ],
      "metadata": {
        "id": "Xv9EtY5a-l6H"
      },
      "execution_count": null,
      "outputs": []
    },
    {
      "cell_type": "code",
      "source": [
        "def perimeter(self):\n",
        "    return (self.height + self.width) * 2\n",
        "    \n",
        "    \n",
        "  \n",
        "\n",
        "\n"
      ],
      "metadata": {
        "id": "Kjb4gxrn-zgQ"
      },
      "execution_count": null,
      "outputs": []
    },
    {
      "cell_type": "code",
      "source": [
        "def corridor (self):\n",
        "  return (self.height/1000 * self.breadth/1000)"
      ],
      "metadata": {
        "id": "R4Foh6Iq-_6V"
      },
      "execution_count": 6,
      "outputs": []
    },
    {
      "cell_type": "code",
      "source": [
        "def perimeter(self):\n",
        "    return ((self.height + self.width) * 2 + (self.breadth))  \n",
        "    "
      ],
      "metadata": {
        "id": "yYyi_1DmArW7"
      },
      "execution_count": 8,
      "outputs": []
    },
    {
      "cell_type": "code",
      "source": [
        "def __repr__(self):\n",
        "    return f\"Room instance with {self.name} and size {self.height}x{self.width} +{self.breadth} and total {self.surface()}sqm\""
      ],
      "metadata": {
        "id": "GahqdCqq_D5F"
      },
      "execution_count": 9,
      "outputs": []
    },
    {
      "cell_type": "code",
      "source": [
        "from ast import Pass\n",
        "class living_room(room):\n",
        "  pass\n",
        "\n",
        "class bathroom(room):\n",
        "  pass\n",
        "  class  corridor(room):\n",
        "    pass\n",
        "    "
      ],
      "metadata": {
        "id": "6hWjWe-tFTDZ"
      },
      "execution_count": 13,
      "outputs": []
    },
    {
      "cell_type": "code",
      "source": [
        "def main():\n",
        "  rooms = []\n",
        "  room_count = 0\n",
        "  total_size = 0.0\n",
        "  for line in open(\"input.txt\", \"rt\"):\n",
        "    parts = line.split(':')\n",
        "    print (parts)\n",
        "    if len(parts) == 3:\n",
        "      name, dimensions = parts[0], parts[1]\n",
        "      dims = dimensions.split(\"x\", 1)\n",
        "      if len(dims) == 3:\n",
        "        width, height, breadth = dims[0].strip(), dims[1].strip() , dims[2].strip()\n",
        "        print(name, width, height, breadth)\n",
        "        room_count = room_count + 1\n",
        "\n"
      ],
      "metadata": {
        "id": "CJ1HQsHlBQeQ"
      },
      "execution_count": 18,
      "outputs": []
    },
    {
      "cell_type": "code",
      "source": [
        "print(living_room,bathroom,corridor)"
      ],
      "metadata": {
        "colab": {
          "base_uri": "https://localhost:8080/"
        },
        "id": "Txkbbtc8H2rt",
        "outputId": "0740dac3-afe1-4b6f-c47d-c70b49b78971"
      },
      "execution_count": 20,
      "outputs": [
        {
          "output_type": "stream",
          "name": "stdout",
          "text": [
            "<class '__main__.living_room'> <class '__main__.bathroom'> <function corridor at 0x7f0c51a8eca0>\n"
          ]
        }
      ]
    }
  ]
}