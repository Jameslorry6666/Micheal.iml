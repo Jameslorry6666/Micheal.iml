{
  "nbformat": 4,
  "nbformat_minor": 0,
  "metadata": {
    "colab": {
      "provenance": [],
      "authorship_tag": "ABX9TyPhErsEvl1LrSjoOq3AredW",
      "include_colab_link": true
    },
    "kernelspec": {
      "name": "python3",
      "display_name": "Python 3"
    },
    "language_info": {
      "name": "python"
    },
    "widgets": {
      "application/vnd.jupyter.widget-state+json": {
        "7f8e23d1c2e64a16bbfd88390fe2bef8": {
          "model_module": "@jupyter-widgets/controls",
          "model_name": "HBoxModel",
          "model_module_version": "1.5.0",
          "state": {
            "_dom_classes": [],
            "_model_module": "@jupyter-widgets/controls",
            "_model_module_version": "1.5.0",
            "_model_name": "HBoxModel",
            "_view_count": null,
            "_view_module": "@jupyter-widgets/controls",
            "_view_module_version": "1.5.0",
            "_view_name": "HBoxView",
            "box_style": "",
            "children": [
              "IPY_MODEL_3c3b437c6fe14c07950ea2da7f2aa02e",
              "IPY_MODEL_bb0a089c596342de84651e99f0b21537",
              "IPY_MODEL_9ec1cdec4f38454d9349673ec563209a"
            ],
            "layout": "IPY_MODEL_392280edaa6a4bb1bf51f42bac4055d7"
          }
        },
        "3c3b437c6fe14c07950ea2da7f2aa02e": {
          "model_module": "@jupyter-widgets/controls",
          "model_name": "HTMLModel",
          "model_module_version": "1.5.0",
          "state": {
            "_dom_classes": [],
            "_model_module": "@jupyter-widgets/controls",
            "_model_module_version": "1.5.0",
            "_model_name": "HTMLModel",
            "_view_count": null,
            "_view_module": "@jupyter-widgets/controls",
            "_view_module_version": "1.5.0",
            "_view_name": "HTMLView",
            "description": "",
            "description_tooltip": null,
            "layout": "IPY_MODEL_f47db7d4a105472eb1813ab9f60a01e5",
            "placeholder": "​",
            "style": "IPY_MODEL_c7f16ad5dc1e415fa792d17bf041941c",
            "value": "100%"
          }
        },
        "bb0a089c596342de84651e99f0b21537": {
          "model_module": "@jupyter-widgets/controls",
          "model_name": "FloatProgressModel",
          "model_module_version": "1.5.0",
          "state": {
            "_dom_classes": [],
            "_model_module": "@jupyter-widgets/controls",
            "_model_module_version": "1.5.0",
            "_model_name": "FloatProgressModel",
            "_view_count": null,
            "_view_module": "@jupyter-widgets/controls",
            "_view_module_version": "1.5.0",
            "_view_name": "ProgressView",
            "bar_style": "success",
            "description": "",
            "description_tooltip": null,
            "layout": "IPY_MODEL_bda2fce6795c47bf942d46f231a1e2df",
            "max": 3,
            "min": 0,
            "orientation": "horizontal",
            "style": "IPY_MODEL_b81420860f544cc291239b5c38338fdc",
            "value": 3
          }
        },
        "9ec1cdec4f38454d9349673ec563209a": {
          "model_module": "@jupyter-widgets/controls",
          "model_name": "HTMLModel",
          "model_module_version": "1.5.0",
          "state": {
            "_dom_classes": [],
            "_model_module": "@jupyter-widgets/controls",
            "_model_module_version": "1.5.0",
            "_model_name": "HTMLModel",
            "_view_count": null,
            "_view_module": "@jupyter-widgets/controls",
            "_view_module_version": "1.5.0",
            "_view_name": "HTMLView",
            "description": "",
            "description_tooltip": null,
            "layout": "IPY_MODEL_f3db175c109a4189af3b6e8211a6b92c",
            "placeholder": "​",
            "style": "IPY_MODEL_9fa2e5ff47d54570928dc373df7a7d81",
            "value": " 3/3 [00:00&lt;00:00, 19.81it/s]"
          }
        },
        "392280edaa6a4bb1bf51f42bac4055d7": {
          "model_module": "@jupyter-widgets/base",
          "model_name": "LayoutModel",
          "model_module_version": "1.2.0",
          "state": {
            "_model_module": "@jupyter-widgets/base",
            "_model_module_version": "1.2.0",
            "_model_name": "LayoutModel",
            "_view_count": null,
            "_view_module": "@jupyter-widgets/base",
            "_view_module_version": "1.2.0",
            "_view_name": "LayoutView",
            "align_content": null,
            "align_items": null,
            "align_self": null,
            "border": null,
            "bottom": null,
            "display": null,
            "flex": null,
            "flex_flow": null,
            "grid_area": null,
            "grid_auto_columns": null,
            "grid_auto_flow": null,
            "grid_auto_rows": null,
            "grid_column": null,
            "grid_gap": null,
            "grid_row": null,
            "grid_template_areas": null,
            "grid_template_columns": null,
            "grid_template_rows": null,
            "height": null,
            "justify_content": null,
            "justify_items": null,
            "left": null,
            "margin": null,
            "max_height": null,
            "max_width": null,
            "min_height": null,
            "min_width": null,
            "object_fit": null,
            "object_position": null,
            "order": null,
            "overflow": null,
            "overflow_x": null,
            "overflow_y": null,
            "padding": null,
            "right": null,
            "top": null,
            "visibility": null,
            "width": null
          }
        },
        "f47db7d4a105472eb1813ab9f60a01e5": {
          "model_module": "@jupyter-widgets/base",
          "model_name": "LayoutModel",
          "model_module_version": "1.2.0",
          "state": {
            "_model_module": "@jupyter-widgets/base",
            "_model_module_version": "1.2.0",
            "_model_name": "LayoutModel",
            "_view_count": null,
            "_view_module": "@jupyter-widgets/base",
            "_view_module_version": "1.2.0",
            "_view_name": "LayoutView",
            "align_content": null,
            "align_items": null,
            "align_self": null,
            "border": null,
            "bottom": null,
            "display": null,
            "flex": null,
            "flex_flow": null,
            "grid_area": null,
            "grid_auto_columns": null,
            "grid_auto_flow": null,
            "grid_auto_rows": null,
            "grid_column": null,
            "grid_gap": null,
            "grid_row": null,
            "grid_template_areas": null,
            "grid_template_columns": null,
            "grid_template_rows": null,
            "height": null,
            "justify_content": null,
            "justify_items": null,
            "left": null,
            "margin": null,
            "max_height": null,
            "max_width": null,
            "min_height": null,
            "min_width": null,
            "object_fit": null,
            "object_position": null,
            "order": null,
            "overflow": null,
            "overflow_x": null,
            "overflow_y": null,
            "padding": null,
            "right": null,
            "top": null,
            "visibility": null,
            "width": null
          }
        },
        "c7f16ad5dc1e415fa792d17bf041941c": {
          "model_module": "@jupyter-widgets/controls",
          "model_name": "DescriptionStyleModel",
          "model_module_version": "1.5.0",
          "state": {
            "_model_module": "@jupyter-widgets/controls",
            "_model_module_version": "1.5.0",
            "_model_name": "DescriptionStyleModel",
            "_view_count": null,
            "_view_module": "@jupyter-widgets/base",
            "_view_module_version": "1.2.0",
            "_view_name": "StyleView",
            "description_width": ""
          }
        },
        "bda2fce6795c47bf942d46f231a1e2df": {
          "model_module": "@jupyter-widgets/base",
          "model_name": "LayoutModel",
          "model_module_version": "1.2.0",
          "state": {
            "_model_module": "@jupyter-widgets/base",
            "_model_module_version": "1.2.0",
            "_model_name": "LayoutModel",
            "_view_count": null,
            "_view_module": "@jupyter-widgets/base",
            "_view_module_version": "1.2.0",
            "_view_name": "LayoutView",
            "align_content": null,
            "align_items": null,
            "align_self": null,
            "border": null,
            "bottom": null,
            "display": null,
            "flex": null,
            "flex_flow": null,
            "grid_area": null,
            "grid_auto_columns": null,
            "grid_auto_flow": null,
            "grid_auto_rows": null,
            "grid_column": null,
            "grid_gap": null,
            "grid_row": null,
            "grid_template_areas": null,
            "grid_template_columns": null,
            "grid_template_rows": null,
            "height": null,
            "justify_content": null,
            "justify_items": null,
            "left": null,
            "margin": null,
            "max_height": null,
            "max_width": null,
            "min_height": null,
            "min_width": null,
            "object_fit": null,
            "object_position": null,
            "order": null,
            "overflow": null,
            "overflow_x": null,
            "overflow_y": null,
            "padding": null,
            "right": null,
            "top": null,
            "visibility": null,
            "width": null
          }
        },
        "b81420860f544cc291239b5c38338fdc": {
          "model_module": "@jupyter-widgets/controls",
          "model_name": "ProgressStyleModel",
          "model_module_version": "1.5.0",
          "state": {
            "_model_module": "@jupyter-widgets/controls",
            "_model_module_version": "1.5.0",
            "_model_name": "ProgressStyleModel",
            "_view_count": null,
            "_view_module": "@jupyter-widgets/base",
            "_view_module_version": "1.2.0",
            "_view_name": "StyleView",
            "bar_color": null,
            "description_width": ""
          }
        },
        "f3db175c109a4189af3b6e8211a6b92c": {
          "model_module": "@jupyter-widgets/base",
          "model_name": "LayoutModel",
          "model_module_version": "1.2.0",
          "state": {
            "_model_module": "@jupyter-widgets/base",
            "_model_module_version": "1.2.0",
            "_model_name": "LayoutModel",
            "_view_count": null,
            "_view_module": "@jupyter-widgets/base",
            "_view_module_version": "1.2.0",
            "_view_name": "LayoutView",
            "align_content": null,
            "align_items": null,
            "align_self": null,
            "border": null,
            "bottom": null,
            "display": null,
            "flex": null,
            "flex_flow": null,
            "grid_area": null,
            "grid_auto_columns": null,
            "grid_auto_flow": null,
            "grid_auto_rows": null,
            "grid_column": null,
            "grid_gap": null,
            "grid_row": null,
            "grid_template_areas": null,
            "grid_template_columns": null,
            "grid_template_rows": null,
            "height": null,
            "justify_content": null,
            "justify_items": null,
            "left": null,
            "margin": null,
            "max_height": null,
            "max_width": null,
            "min_height": null,
            "min_width": null,
            "object_fit": null,
            "object_position": null,
            "order": null,
            "overflow": null,
            "overflow_x": null,
            "overflow_y": null,
            "padding": null,
            "right": null,
            "top": null,
            "visibility": null,
            "width": null
          }
        },
        "9fa2e5ff47d54570928dc373df7a7d81": {
          "model_module": "@jupyter-widgets/controls",
          "model_name": "DescriptionStyleModel",
          "model_module_version": "1.5.0",
          "state": {
            "_model_module": "@jupyter-widgets/controls",
            "_model_module_version": "1.5.0",
            "_model_name": "DescriptionStyleModel",
            "_view_count": null,
            "_view_module": "@jupyter-widgets/base",
            "_view_module_version": "1.2.0",
            "_view_name": "StyleView",
            "description_width": ""
          }
        },
        "659a2afe214b4ebab6aa9bfcea8b1ff2": {
          "model_module": "@jupyter-widgets/controls",
          "model_name": "HBoxModel",
          "model_module_version": "1.5.0",
          "state": {
            "_dom_classes": [],
            "_model_module": "@jupyter-widgets/controls",
            "_model_module_version": "1.5.0",
            "_model_name": "HBoxModel",
            "_view_count": null,
            "_view_module": "@jupyter-widgets/controls",
            "_view_module_version": "1.5.0",
            "_view_name": "HBoxView",
            "box_style": "",
            "children": [
              "IPY_MODEL_e81bc322c7d741d188c02431f8861550",
              "IPY_MODEL_1230157256264f2aac9b8fcb9d9628fc",
              "IPY_MODEL_5bd12ef536204147a48f73cc5a913862"
            ],
            "layout": "IPY_MODEL_ed3638a27e91412fad275e86b97c62c4"
          }
        },
        "e81bc322c7d741d188c02431f8861550": {
          "model_module": "@jupyter-widgets/controls",
          "model_name": "HTMLModel",
          "model_module_version": "1.5.0",
          "state": {
            "_dom_classes": [],
            "_model_module": "@jupyter-widgets/controls",
            "_model_module_version": "1.5.0",
            "_model_name": "HTMLModel",
            "_view_count": null,
            "_view_module": "@jupyter-widgets/controls",
            "_view_module_version": "1.5.0",
            "_view_name": "HTMLView",
            "description": "",
            "description_tooltip": null,
            "layout": "IPY_MODEL_a455031969fb4c7197870110f8b681f4",
            "placeholder": "​",
            "style": "IPY_MODEL_f3e3292b773c458e97a81bd715e9200c",
            "value": "100%"
          }
        },
        "1230157256264f2aac9b8fcb9d9628fc": {
          "model_module": "@jupyter-widgets/controls",
          "model_name": "FloatProgressModel",
          "model_module_version": "1.5.0",
          "state": {
            "_dom_classes": [],
            "_model_module": "@jupyter-widgets/controls",
            "_model_module_version": "1.5.0",
            "_model_name": "FloatProgressModel",
            "_view_count": null,
            "_view_module": "@jupyter-widgets/controls",
            "_view_module_version": "1.5.0",
            "_view_name": "ProgressView",
            "bar_style": "success",
            "description": "",
            "description_tooltip": null,
            "layout": "IPY_MODEL_98a744cdd2e846a3bee99de32c7ea00c",
            "max": 9,
            "min": 0,
            "orientation": "horizontal",
            "style": "IPY_MODEL_7a318e1ff86f478cae4615868de0ceb9",
            "value": 9
          }
        },
        "5bd12ef536204147a48f73cc5a913862": {
          "model_module": "@jupyter-widgets/controls",
          "model_name": "HTMLModel",
          "model_module_version": "1.5.0",
          "state": {
            "_dom_classes": [],
            "_model_module": "@jupyter-widgets/controls",
            "_model_module_version": "1.5.0",
            "_model_name": "HTMLModel",
            "_view_count": null,
            "_view_module": "@jupyter-widgets/controls",
            "_view_module_version": "1.5.0",
            "_view_name": "HTMLView",
            "description": "",
            "description_tooltip": null,
            "layout": "IPY_MODEL_c884e1ef5b52475da8610e8681091a40",
            "placeholder": "​",
            "style": "IPY_MODEL_178a49814c714485a58565decefda821",
            "value": " 9/9 [00:19&lt;00:00,  3.05s/it]"
          }
        },
        "ed3638a27e91412fad275e86b97c62c4": {
          "model_module": "@jupyter-widgets/base",
          "model_name": "LayoutModel",
          "model_module_version": "1.2.0",
          "state": {
            "_model_module": "@jupyter-widgets/base",
            "_model_module_version": "1.2.0",
            "_model_name": "LayoutModel",
            "_view_count": null,
            "_view_module": "@jupyter-widgets/base",
            "_view_module_version": "1.2.0",
            "_view_name": "LayoutView",
            "align_content": null,
            "align_items": null,
            "align_self": null,
            "border": null,
            "bottom": null,
            "display": null,
            "flex": null,
            "flex_flow": null,
            "grid_area": null,
            "grid_auto_columns": null,
            "grid_auto_flow": null,
            "grid_auto_rows": null,
            "grid_column": null,
            "grid_gap": null,
            "grid_row": null,
            "grid_template_areas": null,
            "grid_template_columns": null,
            "grid_template_rows": null,
            "height": null,
            "justify_content": null,
            "justify_items": null,
            "left": null,
            "margin": null,
            "max_height": null,
            "max_width": null,
            "min_height": null,
            "min_width": null,
            "object_fit": null,
            "object_position": null,
            "order": null,
            "overflow": null,
            "overflow_x": null,
            "overflow_y": null,
            "padding": null,
            "right": null,
            "top": null,
            "visibility": null,
            "width": null
          }
        },
        "a455031969fb4c7197870110f8b681f4": {
          "model_module": "@jupyter-widgets/base",
          "model_name": "LayoutModel",
          "model_module_version": "1.2.0",
          "state": {
            "_model_module": "@jupyter-widgets/base",
            "_model_module_version": "1.2.0",
            "_model_name": "LayoutModel",
            "_view_count": null,
            "_view_module": "@jupyter-widgets/base",
            "_view_module_version": "1.2.0",
            "_view_name": "LayoutView",
            "align_content": null,
            "align_items": null,
            "align_self": null,
            "border": null,
            "bottom": null,
            "display": null,
            "flex": null,
            "flex_flow": null,
            "grid_area": null,
            "grid_auto_columns": null,
            "grid_auto_flow": null,
            "grid_auto_rows": null,
            "grid_column": null,
            "grid_gap": null,
            "grid_row": null,
            "grid_template_areas": null,
            "grid_template_columns": null,
            "grid_template_rows": null,
            "height": null,
            "justify_content": null,
            "justify_items": null,
            "left": null,
            "margin": null,
            "max_height": null,
            "max_width": null,
            "min_height": null,
            "min_width": null,
            "object_fit": null,
            "object_position": null,
            "order": null,
            "overflow": null,
            "overflow_x": null,
            "overflow_y": null,
            "padding": null,
            "right": null,
            "top": null,
            "visibility": null,
            "width": null
          }
        },
        "f3e3292b773c458e97a81bd715e9200c": {
          "model_module": "@jupyter-widgets/controls",
          "model_name": "DescriptionStyleModel",
          "model_module_version": "1.5.0",
          "state": {
            "_model_module": "@jupyter-widgets/controls",
            "_model_module_version": "1.5.0",
            "_model_name": "DescriptionStyleModel",
            "_view_count": null,
            "_view_module": "@jupyter-widgets/base",
            "_view_module_version": "1.2.0",
            "_view_name": "StyleView",
            "description_width": ""
          }
        },
        "98a744cdd2e846a3bee99de32c7ea00c": {
          "model_module": "@jupyter-widgets/base",
          "model_name": "LayoutModel",
          "model_module_version": "1.2.0",
          "state": {
            "_model_module": "@jupyter-widgets/base",
            "_model_module_version": "1.2.0",
            "_model_name": "LayoutModel",
            "_view_count": null,
            "_view_module": "@jupyter-widgets/base",
            "_view_module_version": "1.2.0",
            "_view_name": "LayoutView",
            "align_content": null,
            "align_items": null,
            "align_self": null,
            "border": null,
            "bottom": null,
            "display": null,
            "flex": null,
            "flex_flow": null,
            "grid_area": null,
            "grid_auto_columns": null,
            "grid_auto_flow": null,
            "grid_auto_rows": null,
            "grid_column": null,
            "grid_gap": null,
            "grid_row": null,
            "grid_template_areas": null,
            "grid_template_columns": null,
            "grid_template_rows": null,
            "height": null,
            "justify_content": null,
            "justify_items": null,
            "left": null,
            "margin": null,
            "max_height": null,
            "max_width": null,
            "min_height": null,
            "min_width": null,
            "object_fit": null,
            "object_position": null,
            "order": null,
            "overflow": null,
            "overflow_x": null,
            "overflow_y": null,
            "padding": null,
            "right": null,
            "top": null,
            "visibility": null,
            "width": null
          }
        },
        "7a318e1ff86f478cae4615868de0ceb9": {
          "model_module": "@jupyter-widgets/controls",
          "model_name": "ProgressStyleModel",
          "model_module_version": "1.5.0",
          "state": {
            "_model_module": "@jupyter-widgets/controls",
            "_model_module_version": "1.5.0",
            "_model_name": "ProgressStyleModel",
            "_view_count": null,
            "_view_module": "@jupyter-widgets/base",
            "_view_module_version": "1.2.0",
            "_view_name": "StyleView",
            "bar_color": null,
            "description_width": ""
          }
        },
        "c884e1ef5b52475da8610e8681091a40": {
          "model_module": "@jupyter-widgets/base",
          "model_name": "LayoutModel",
          "model_module_version": "1.2.0",
          "state": {
            "_model_module": "@jupyter-widgets/base",
            "_model_module_version": "1.2.0",
            "_model_name": "LayoutModel",
            "_view_count": null,
            "_view_module": "@jupyter-widgets/base",
            "_view_module_version": "1.2.0",
            "_view_name": "LayoutView",
            "align_content": null,
            "align_items": null,
            "align_self": null,
            "border": null,
            "bottom": null,
            "display": null,
            "flex": null,
            "flex_flow": null,
            "grid_area": null,
            "grid_auto_columns": null,
            "grid_auto_flow": null,
            "grid_auto_rows": null,
            "grid_column": null,
            "grid_gap": null,
            "grid_row": null,
            "grid_template_areas": null,
            "grid_template_columns": null,
            "grid_template_rows": null,
            "height": null,
            "justify_content": null,
            "justify_items": null,
            "left": null,
            "margin": null,
            "max_height": null,
            "max_width": null,
            "min_height": null,
            "min_width": null,
            "object_fit": null,
            "object_position": null,
            "order": null,
            "overflow": null,
            "overflow_x": null,
            "overflow_y": null,
            "padding": null,
            "right": null,
            "top": null,
            "visibility": null,
            "width": null
          }
        },
        "178a49814c714485a58565decefda821": {
          "model_module": "@jupyter-widgets/controls",
          "model_name": "DescriptionStyleModel",
          "model_module_version": "1.5.0",
          "state": {
            "_model_module": "@jupyter-widgets/controls",
            "_model_module_version": "1.5.0",
            "_model_name": "DescriptionStyleModel",
            "_view_count": null,
            "_view_module": "@jupyter-widgets/base",
            "_view_module_version": "1.2.0",
            "_view_name": "StyleView",
            "description_width": ""
          }
        },
        "f8a8829a66804655b1feec9376210615": {
          "model_module": "@jupyter-widgets/controls",
          "model_name": "HBoxModel",
          "model_module_version": "1.5.0",
          "state": {
            "_dom_classes": [],
            "_model_module": "@jupyter-widgets/controls",
            "_model_module_version": "1.5.0",
            "_model_name": "HBoxModel",
            "_view_count": null,
            "_view_module": "@jupyter-widgets/controls",
            "_view_module_version": "1.5.0",
            "_view_name": "HBoxView",
            "box_style": "",
            "children": [
              "IPY_MODEL_e52a96728c424510aaff84629fde90a7",
              "IPY_MODEL_59d4be4324334294a5c99ced484ea99b",
              "IPY_MODEL_1ec9d4003c5b430c897b9e515ac78591"
            ],
            "layout": "IPY_MODEL_0d77d2b61934413bbaeb9b945a3345f3"
          }
        },
        "e52a96728c424510aaff84629fde90a7": {
          "model_module": "@jupyter-widgets/controls",
          "model_name": "HTMLModel",
          "model_module_version": "1.5.0",
          "state": {
            "_dom_classes": [],
            "_model_module": "@jupyter-widgets/controls",
            "_model_module_version": "1.5.0",
            "_model_name": "HTMLModel",
            "_view_count": null,
            "_view_module": "@jupyter-widgets/controls",
            "_view_module_version": "1.5.0",
            "_view_name": "HTMLView",
            "description": "",
            "description_tooltip": null,
            "layout": "IPY_MODEL_cb1e3afd0c0d44a1ac6a11f9a972d27f",
            "placeholder": "​",
            "style": "IPY_MODEL_40e7ac1b08514239a57acbc0c6e5741a",
            "value": "100%"
          }
        },
        "59d4be4324334294a5c99ced484ea99b": {
          "model_module": "@jupyter-widgets/controls",
          "model_name": "FloatProgressModel",
          "model_module_version": "1.5.0",
          "state": {
            "_dom_classes": [],
            "_model_module": "@jupyter-widgets/controls",
            "_model_module_version": "1.5.0",
            "_model_name": "FloatProgressModel",
            "_view_count": null,
            "_view_module": "@jupyter-widgets/controls",
            "_view_module_version": "1.5.0",
            "_view_name": "ProgressView",
            "bar_style": "success",
            "description": "",
            "description_tooltip": null,
            "layout": "IPY_MODEL_29d10006431840a8bff301389103ec20",
            "max": 9,
            "min": 0,
            "orientation": "horizontal",
            "style": "IPY_MODEL_1d1d539e66bc461a9f318c7dd0066868",
            "value": 9
          }
        },
        "1ec9d4003c5b430c897b9e515ac78591": {
          "model_module": "@jupyter-widgets/controls",
          "model_name": "HTMLModel",
          "model_module_version": "1.5.0",
          "state": {
            "_dom_classes": [],
            "_model_module": "@jupyter-widgets/controls",
            "_model_module_version": "1.5.0",
            "_model_name": "HTMLModel",
            "_view_count": null,
            "_view_module": "@jupyter-widgets/controls",
            "_view_module_version": "1.5.0",
            "_view_name": "HTMLView",
            "description": "",
            "description_tooltip": null,
            "layout": "IPY_MODEL_bac9328a69ed4875982298cff909bad8",
            "placeholder": "​",
            "style": "IPY_MODEL_d7ec85539e5f45599f73d4d338056899",
            "value": " 9/9 [00:13&lt;00:00,  1.84s/it]"
          }
        },
        "0d77d2b61934413bbaeb9b945a3345f3": {
          "model_module": "@jupyter-widgets/base",
          "model_name": "LayoutModel",
          "model_module_version": "1.2.0",
          "state": {
            "_model_module": "@jupyter-widgets/base",
            "_model_module_version": "1.2.0",
            "_model_name": "LayoutModel",
            "_view_count": null,
            "_view_module": "@jupyter-widgets/base",
            "_view_module_version": "1.2.0",
            "_view_name": "LayoutView",
            "align_content": null,
            "align_items": null,
            "align_self": null,
            "border": null,
            "bottom": null,
            "display": null,
            "flex": null,
            "flex_flow": null,
            "grid_area": null,
            "grid_auto_columns": null,
            "grid_auto_flow": null,
            "grid_auto_rows": null,
            "grid_column": null,
            "grid_gap": null,
            "grid_row": null,
            "grid_template_areas": null,
            "grid_template_columns": null,
            "grid_template_rows": null,
            "height": null,
            "justify_content": null,
            "justify_items": null,
            "left": null,
            "margin": null,
            "max_height": null,
            "max_width": null,
            "min_height": null,
            "min_width": null,
            "object_fit": null,
            "object_position": null,
            "order": null,
            "overflow": null,
            "overflow_x": null,
            "overflow_y": null,
            "padding": null,
            "right": null,
            "top": null,
            "visibility": null,
            "width": null
          }
        },
        "cb1e3afd0c0d44a1ac6a11f9a972d27f": {
          "model_module": "@jupyter-widgets/base",
          "model_name": "LayoutModel",
          "model_module_version": "1.2.0",
          "state": {
            "_model_module": "@jupyter-widgets/base",
            "_model_module_version": "1.2.0",
            "_model_name": "LayoutModel",
            "_view_count": null,
            "_view_module": "@jupyter-widgets/base",
            "_view_module_version": "1.2.0",
            "_view_name": "LayoutView",
            "align_content": null,
            "align_items": null,
            "align_self": null,
            "border": null,
            "bottom": null,
            "display": null,
            "flex": null,
            "flex_flow": null,
            "grid_area": null,
            "grid_auto_columns": null,
            "grid_auto_flow": null,
            "grid_auto_rows": null,
            "grid_column": null,
            "grid_gap": null,
            "grid_row": null,
            "grid_template_areas": null,
            "grid_template_columns": null,
            "grid_template_rows": null,
            "height": null,
            "justify_content": null,
            "justify_items": null,
            "left": null,
            "margin": null,
            "max_height": null,
            "max_width": null,
            "min_height": null,
            "min_width": null,
            "object_fit": null,
            "object_position": null,
            "order": null,
            "overflow": null,
            "overflow_x": null,
            "overflow_y": null,
            "padding": null,
            "right": null,
            "top": null,
            "visibility": null,
            "width": null
          }
        },
        "40e7ac1b08514239a57acbc0c6e5741a": {
          "model_module": "@jupyter-widgets/controls",
          "model_name": "DescriptionStyleModel",
          "model_module_version": "1.5.0",
          "state": {
            "_model_module": "@jupyter-widgets/controls",
            "_model_module_version": "1.5.0",
            "_model_name": "DescriptionStyleModel",
            "_view_count": null,
            "_view_module": "@jupyter-widgets/base",
            "_view_module_version": "1.2.0",
            "_view_name": "StyleView",
            "description_width": ""
          }
        },
        "29d10006431840a8bff301389103ec20": {
          "model_module": "@jupyter-widgets/base",
          "model_name": "LayoutModel",
          "model_module_version": "1.2.0",
          "state": {
            "_model_module": "@jupyter-widgets/base",
            "_model_module_version": "1.2.0",
            "_model_name": "LayoutModel",
            "_view_count": null,
            "_view_module": "@jupyter-widgets/base",
            "_view_module_version": "1.2.0",
            "_view_name": "LayoutView",
            "align_content": null,
            "align_items": null,
            "align_self": null,
            "border": null,
            "bottom": null,
            "display": null,
            "flex": null,
            "flex_flow": null,
            "grid_area": null,
            "grid_auto_columns": null,
            "grid_auto_flow": null,
            "grid_auto_rows": null,
            "grid_column": null,
            "grid_gap": null,
            "grid_row": null,
            "grid_template_areas": null,
            "grid_template_columns": null,
            "grid_template_rows": null,
            "height": null,
            "justify_content": null,
            "justify_items": null,
            "left": null,
            "margin": null,
            "max_height": null,
            "max_width": null,
            "min_height": null,
            "min_width": null,
            "object_fit": null,
            "object_position": null,
            "order": null,
            "overflow": null,
            "overflow_x": null,
            "overflow_y": null,
            "padding": null,
            "right": null,
            "top": null,
            "visibility": null,
            "width": null
          }
        },
        "1d1d539e66bc461a9f318c7dd0066868": {
          "model_module": "@jupyter-widgets/controls",
          "model_name": "ProgressStyleModel",
          "model_module_version": "1.5.0",
          "state": {
            "_model_module": "@jupyter-widgets/controls",
            "_model_module_version": "1.5.0",
            "_model_name": "ProgressStyleModel",
            "_view_count": null,
            "_view_module": "@jupyter-widgets/base",
            "_view_module_version": "1.2.0",
            "_view_name": "StyleView",
            "bar_color": null,
            "description_width": ""
          }
        },
        "bac9328a69ed4875982298cff909bad8": {
          "model_module": "@jupyter-widgets/base",
          "model_name": "LayoutModel",
          "model_module_version": "1.2.0",
          "state": {
            "_model_module": "@jupyter-widgets/base",
            "_model_module_version": "1.2.0",
            "_model_name": "LayoutModel",
            "_view_count": null,
            "_view_module": "@jupyter-widgets/base",
            "_view_module_version": "1.2.0",
            "_view_name": "LayoutView",
            "align_content": null,
            "align_items": null,
            "align_self": null,
            "border": null,
            "bottom": null,
            "display": null,
            "flex": null,
            "flex_flow": null,
            "grid_area": null,
            "grid_auto_columns": null,
            "grid_auto_flow": null,
            "grid_auto_rows": null,
            "grid_column": null,
            "grid_gap": null,
            "grid_row": null,
            "grid_template_areas": null,
            "grid_template_columns": null,
            "grid_template_rows": null,
            "height": null,
            "justify_content": null,
            "justify_items": null,
            "left": null,
            "margin": null,
            "max_height": null,
            "max_width": null,
            "min_height": null,
            "min_width": null,
            "object_fit": null,
            "object_position": null,
            "order": null,
            "overflow": null,
            "overflow_x": null,
            "overflow_y": null,
            "padding": null,
            "right": null,
            "top": null,
            "visibility": null,
            "width": null
          }
        },
        "d7ec85539e5f45599f73d4d338056899": {
          "model_module": "@jupyter-widgets/controls",
          "model_name": "DescriptionStyleModel",
          "model_module_version": "1.5.0",
          "state": {
            "_model_module": "@jupyter-widgets/controls",
            "_model_module_version": "1.5.0",
            "_model_name": "DescriptionStyleModel",
            "_view_count": null,
            "_view_module": "@jupyter-widgets/base",
            "_view_module_version": "1.2.0",
            "_view_name": "StyleView",
            "description_width": ""
          }
        }
      }
    }
  },
  "cells": [
    {
      "cell_type": "markdown",
      "metadata": {
        "id": "view-in-github",
        "colab_type": "text"
      },
      "source": [
        "<a href=\"https://colab.research.google.com/github/Jameslorry6666/Micheal.iml/blob/master/Regression_Task.ipynb\" target=\"_parent\"><img src=\"https://colab.research.google.com/assets/colab-badge.svg\" alt=\"Open In Colab\"/></a>"
      ]
    },
    {
      "cell_type": "code",
      "execution_count": 6,
      "metadata": {
        "id": "Z46G7nFDEfNK"
      },
      "outputs": [],
      "source": [
        "import pandas as pd\n",
        "import os\n",
        "import numpy as np\n",
        "import os\n",
        "import seaborn as sns\n",
        "import matplotlib.pyplot as plt\n",
        "from tqdm import tqdm_notebook\n",
        "import itertools\n",
        "from sklearn.preprocessing import OneHotEncoder\n",
        "from sklearn.model_selection import train_test_split\n",
        "from sklearn.feature_selection import SelectFromModel\n",
        "from sklearn.linear_model import Ridge\n",
        "from sklearn.linear_model import Lasso\n",
        "from sklearn.linear_model import LinearRegression\n",
        "from sklearn.metrics import r2_score\n",
        "from sklearn.metrics import mean_squared_error\n",
        "from sklearn.metrics import mean_absolute_error\n",
        "from sklearn.preprocessing import PolynomialFeatures\n",
        "from sklearn.ensemble import RandomForestRegressor\n",
        "from sklearn.model_selection import cross_val_score\n",
        "from sklearn.metrics import make_scorer"
      ]
    },
    {
      "cell_type": "code",
      "source": [
        "from google.colab import drive\n",
        "drive.mount('/content/gdrive', force_remount = True)"
      ],
      "metadata": {
        "id": "rsIZ1bCOQBJW",
        "colab": {
          "base_uri": "https://localhost:8080/"
        },
        "outputId": "ca98d3d7-f3ab-4574-b6a7-0faa37658c4c"
      },
      "execution_count": 8,
      "outputs": [
        {
          "output_type": "stream",
          "name": "stdout",
          "text": [
            "Mounted at /content/gdrive\n"
          ]
        }
      ]
    },
    {
      "cell_type": "markdown",
      "source": [],
      "metadata": {
        "id": "9yXpOam9QAo0"
      }
    },
    {
      "cell_type": "code",
      "source": [
        "data = pd.read_csv('/content/gdrive/MyDrive/Datasets/forestfires.csv')"
      ],
      "metadata": {
        "id": "xzohLApSP_4T"
      },
      "execution_count": 9,
      "outputs": []
    },
    {
      "cell_type": "code",
      "source": [
        "print(data)\n",
        "print(data.describe())"
      ],
      "metadata": {
        "colab": {
          "base_uri": "https://localhost:8080/"
        },
        "id": "4jNQDN_27kco",
        "outputId": "b4eec61b-fee5-4f5b-db5f-1bbac757fb70"
      },
      "execution_count": 10,
      "outputs": [
        {
          "output_type": "stream",
          "name": "stdout",
          "text": [
            "     X  Y month  day  FFMC    DMC     DC   ISI  temp  RH  wind  rain   area\n",
            "0    7  5   mar  fri  86.2   26.2   94.3   5.1   8.2  51   6.7   0.0   0.00\n",
            "1    7  4   oct  tue  90.6   35.4  669.1   6.7  18.0  33   0.9   0.0   0.00\n",
            "2    7  4   oct  sat  90.6   43.7  686.9   6.7  14.6  33   1.3   0.0   0.00\n",
            "3    8  6   mar  fri  91.7   33.3   77.5   9.0   8.3  97   4.0   0.2   0.00\n",
            "4    8  6   mar  sun  89.3   51.3  102.2   9.6  11.4  99   1.8   0.0   0.00\n",
            "..  .. ..   ...  ...   ...    ...    ...   ...   ...  ..   ...   ...    ...\n",
            "512  4  3   aug  sun  81.6   56.7  665.6   1.9  27.8  32   2.7   0.0   6.44\n",
            "513  2  4   aug  sun  81.6   56.7  665.6   1.9  21.9  71   5.8   0.0  54.29\n",
            "514  7  4   aug  sun  81.6   56.7  665.6   1.9  21.2  70   6.7   0.0  11.16\n",
            "515  1  4   aug  sat  94.4  146.0  614.7  11.3  25.6  42   4.0   0.0   0.00\n",
            "516  6  3   nov  tue  79.5    3.0  106.7   1.1  11.8  31   4.5   0.0   0.00\n",
            "\n",
            "[517 rows x 13 columns]\n",
            "                X           Y        FFMC         DMC          DC         ISI  \\\n",
            "count  517.000000  517.000000  517.000000  517.000000  517.000000  517.000000   \n",
            "mean     4.669246    4.299807   90.644681  110.872340  547.940039    9.021663   \n",
            "std      2.313778    1.229900    5.520111   64.046482  248.066192    4.559477   \n",
            "min      1.000000    2.000000   18.700000    1.100000    7.900000    0.000000   \n",
            "25%      3.000000    4.000000   90.200000   68.600000  437.700000    6.500000   \n",
            "50%      4.000000    4.000000   91.600000  108.300000  664.200000    8.400000   \n",
            "75%      7.000000    5.000000   92.900000  142.400000  713.900000   10.800000   \n",
            "max      9.000000    9.000000   96.200000  291.300000  860.600000   56.100000   \n",
            "\n",
            "             temp          RH        wind        rain         area  \n",
            "count  517.000000  517.000000  517.000000  517.000000   517.000000  \n",
            "mean    18.889168   44.288201    4.017602    0.021663    12.847292  \n",
            "std      5.806625   16.317469    1.791653    0.295959    63.655818  \n",
            "min      2.200000   15.000000    0.400000    0.000000     0.000000  \n",
            "25%     15.500000   33.000000    2.700000    0.000000     0.000000  \n",
            "50%     19.300000   42.000000    4.000000    0.000000     0.520000  \n",
            "75%     22.800000   53.000000    4.900000    0.000000     6.570000  \n",
            "max     33.300000  100.000000    9.400000    6.400000  1090.840000  \n"
          ]
        }
      ]
    },
    {
      "cell_type": "code",
      "source": [
        "area_bool = data['area'].apply(lambda x: False if x==0 else True)\n",
        "print(\"\"\"\n",
        "Area\n",
        "number of records with fire:{}\n",
        "share of records with fire:{:.2%}\"\"\".format(area_bool.sum(),area_bool.sum()/len(area_bool)))\n",
        "sns_plot = sns.distplot(data['area'])\n",
        "fig = sns_plot.get_figure()"
      ],
      "metadata": {
        "colab": {
          "base_uri": "https://localhost:8080/",
          "height": 709
        },
        "id": "5ahcJzUI7xvX",
        "outputId": "91ef847b-6ec5-481a-eb99-e249919f0e27"
      },
      "execution_count": 13,
      "outputs": [
        {
          "output_type": "stream",
          "name": "stdout",
          "text": [
            "\n",
            "Area\n",
            "number of records with fire:270\n",
            "share of records with fire:52.22%\n"
          ]
        },
        {
          "output_type": "stream",
          "name": "stderr",
          "text": [
            "<ipython-input-13-ee8cc7c105cb>:6: UserWarning: \n",
            "\n",
            "`distplot` is a deprecated function and will be removed in seaborn v0.14.0.\n",
            "\n",
            "Please adapt your code to use either `displot` (a figure-level function with\n",
            "similar flexibility) or `histplot` (an axes-level function for histograms).\n",
            "\n",
            "For a guide to updating your code to use the new functions, please see\n",
            "https://gist.github.com/mwaskom/de44147ed2974457ad6372750bbe5751\n",
            "\n",
            "  sns_plot = sns.distplot(data['area'])\n"
          ]
        },
        {
          "output_type": "display_data",
          "data": {
            "text/plain": [
              "<Figure size 640x480 with 1 Axes>"
            ],
            "image/png": "[encoded data removed]"
          },
          "metadata": {}
        }
      ]
    },
    {
      "cell_type": "code",
      "source": [
        "print(data.shape)\n",
        "missing_val_count_by_column = (data.isnull().sum())\n",
        "print(missing_val_count_by_column[missing_val_count_by_column > 0])"
      ],
      "metadata": {
        "colab": {
          "base_uri": "https://localhost:8080/"
        },
        "id": "hOl1zXNV8Q7b",
        "outputId": "d3298ae2-a8f9-4010-8ead-c3324a669ea1"
      },
      "execution_count": 14,
      "outputs": [
        {
          "output_type": "stream",
          "name": "stdout",
          "text": [
            "(517, 13)\n",
            "Series([], dtype: int64)\n"
          ]
        }
      ]
    },
    {
      "cell_type": "code",
      "source": [
        "y = data['area']\n",
        "X = data[data.columns.difference(['area'])]"
      ],
      "metadata": {
        "id": "t93tTn998esj"
      },
      "execution_count": 15,
      "outputs": []
    },
    {
      "cell_type": "code",
      "source": [
        "object_cols = [col for col in X.columns if data[col].dtype == \"object\"]\n",
        "print(object_cols, len(object_cols))\n",
        "\n",
        "low_cardinality_cols = [col for col in object_cols if X[col].nunique() < 15]\n",
        "print(low_cardinality_cols)\n",
        "\n",
        "OH_cols = pd.get_dummies(X[low_cardinality_cols],prefix=low_cardinality_cols)\n",
        "num_X = X.drop(low_cardinality_cols, axis=1)\n",
        "OH_X = pd.concat([num_X, OH_cols], axis=1)"
      ],
      "metadata": {
        "colab": {
          "base_uri": "https://localhost:8080/"
        },
        "id": "PTnm8eDF8nz8",
        "outputId": "901f2a9c-f78c-4f8a-8aab-d5647354ac2a"
      },
      "execution_count": 16,
      "outputs": [
        {
          "output_type": "stream",
          "name": "stdout",
          "text": [
            "['day', 'month'] 2\n",
            "['day', 'month']\n"
          ]
        }
      ]
    },
    {
      "cell_type": "code",
      "source": [
        "train_X, test_X, train_y, test_y = train_test_split(OH_X, y, random_state=0)"
      ],
      "metadata": {
        "id": "fYe-lbnB800w"
      },
      "execution_count": 17,
      "outputs": []
    },
    {
      "cell_type": "code",
      "source": [
        "def select_features_l1(X, y):\n",
        "        lasso = Lasso(alpha=0.1, random_state=0).fit(X, y)\n",
        "        model = SelectFromModel(lasso, prefit=True)\n",
        "        X_new = model.transform(X)\n",
        "        selected_features = pd.DataFrame(model.inverse_transform(X_new), \n",
        "                                        index=X.index,\n",
        "                                        columns=X.columns)\n",
        "        cols_to_keep = selected_features.columns[selected_features.var() != 0]\n",
        "\n",
        "        return cols_to_keep\n",
        "    \n",
        "selected_features = select_features_l1(train_X, train_y)\n",
        "print('Selected features: {}'.format(len(selected_features)))\n",
        "print(selected_features)\n",
        "new_train_X = train_X[selected_features]\n",
        "new_test_X = test_X[selected_features]"
      ],
      "metadata": {
        "colab": {
          "base_uri": "https://localhost:8080/"
        },
        "id": "SFybDqK289HC",
        "outputId": "40e6a955-0918-48ee-c709-74d7caf3ba23"
      },
      "execution_count": 18,
      "outputs": [
        {
          "output_type": "stream",
          "name": "stdout",
          "text": [
            "Selected features: 22\n",
            "Index(['DC', 'DMC', 'FFMC', 'ISI', 'RH', 'X', 'Y', 'rain', 'temp', 'wind',\n",
            "       'day_fri', 'day_mon', 'day_sun', 'day_thu', 'day_tue', 'day_wed',\n",
            "       'month_aug', 'month_dec', 'month_jun', 'month_mar', 'month_oct',\n",
            "       'month_sep'],\n",
            "      dtype='object')\n"
          ]
        },
        {
          "output_type": "stream",
          "name": "stderr",
          "text": [
            "/usr/local/lib/python3.9/dist-packages/sklearn/base.py:432: UserWarning: X has feature names, but SelectFromModel was fitted without feature names\n",
            "  warnings.warn(\n"
          ]
        }
      ]
    },
    {
      "cell_type": "code",
      "source": [
        "linearModel=LinearRegression()\n",
        "linearModel.fit(new_train_X,train_y)\n",
        "pred_linear=linearModel.predict(new_test_X)"
      ],
      "metadata": {
        "id": "WyyY-WUX9fRE"
      },
      "execution_count": 19,
      "outputs": []
    },
    {
      "cell_type": "code",
      "source": [
        "print('MAE: ',round(mean_absolute_error(test_y,pred_linear),2))\n",
        "print('Quality of the linear regression model:')\n",
        "print('R2_score: ',round(r2_score(test_y,pred_linear),2))\n",
        "print('MSE: ',round(mean_squared_error(test_y,pred_linear),2))\n",
        "print('MAE: ',round(mean_absolute_error(test_y,pred_linear),2))"
      ],
      "metadata": {
        "colab": {
          "base_uri": "https://localhost:8080/"
        },
        "id": "OrH2tZFz9kpo",
        "outputId": "67a62a8e-aa84-4278-acb7-237d23fa3a47"
      },
      "execution_count": 20,
      "outputs": [
        {
          "output_type": "stream",
          "name": "stdout",
          "text": [
            "MAE:  24.16\n",
            "Quality of the linear regression model:\n",
            "R2_score:  0.01\n",
            "MSE:  9670.67\n",
            "MAE:  24.16\n"
          ]
        }
      ]
    },
    {
      "cell_type": "code",
      "source": [
        "def polinom_transform (data,num_features,degree=2):\n",
        "    data_copy = data.copy()\n",
        "    if degree == 1:\n",
        "        return data_copy\n",
        "    else:\n",
        "        for i in range(2,degree+1):\n",
        "            for j in num_features:\n",
        "                data_copy[j+str(i)]=data_copy[j]**i\n",
        "        return data_copy"
      ],
      "metadata": {
        "id": "qTS8Z3WV_bm2"
      },
      "execution_count": 21,
      "outputs": []
    },
    {
      "cell_type": "code",
      "source": [
        "num_fetures = ['DC','DMC','FFMC','ISI','RH','X','Y','rain','temp','wind']"
      ],
      "metadata": {
        "id": "3zO8lYk7_89v"
      },
      "execution_count": 22,
      "outputs": []
    },
    {
      "cell_type": "code",
      "source": [
        "def get_MAE_polinomial(n,num_fetures):\n",
        "    train_X_p = polinom_transform(new_train_X,num_fetures,n)\n",
        "    polinomialModel=LinearRegression()\n",
        "    scores = cross_val_score(polinomialModel, train_X_p, train_y,cv=3,scoring='neg_mean_absolute_error')\n",
        "    return scores.mean()"
      ],
      "metadata": {
        "id": "BRc7HrJdAGhy"
      },
      "execution_count": 23,
      "outputs": []
    },
    {
      "cell_type": "code",
      "source": [
        "result_cv = []\n",
        "parameter = []\n",
        "for i in tqdm_notebook(range(2,5)):\n",
        "    result_cv.append(get_MAE_polinomial(i,num_fetures))\n",
        "    parameter.append(i)\n",
        "    \n",
        "fig, ax = plt.subplots()\n",
        "ax.plot(parameter, result_cv)\n",
        "\n",
        "ax.set(xlabel='polinomial degree', ylabel='CV MAE')\n",
        "ax.grid()\n",
        "plt.show()"
      ],
      "metadata": {
        "colab": {
          "base_uri": "https://localhost:8080/",
          "height": 533,
          "referenced_widgets": [
            "7f8e23d1c2e64a16bbfd88390fe2bef8",
            "3c3b437c6fe14c07950ea2da7f2aa02e",
            "bb0a089c596342de84651e99f0b21537",
            "9ec1cdec4f38454d9349673ec563209a",
            "392280edaa6a4bb1bf51f42bac4055d7",
            "f47db7d4a105472eb1813ab9f60a01e5",
            "c7f16ad5dc1e415fa792d17bf041941c",
            "bda2fce6795c47bf942d46f231a1e2df",
            "b81420860f544cc291239b5c38338fdc",
            "f3db175c109a4189af3b6e8211a6b92c",
            "9fa2e5ff47d54570928dc373df7a7d81"
          ]
        },
        "id": "RwJOFtYrAMuX",
        "outputId": "4a437455-9e43-4394-8f49-6a2c9a753746"
      },
      "execution_count": 24,
      "outputs": [
        {
          "output_type": "stream",
          "name": "stderr",
          "text": [
            "<ipython-input-24-4d1acc71c12a>:3: TqdmDeprecationWarning: This function will be removed in tqdm==5.0.0\n",
            "Please use `tqdm.notebook.tqdm` instead of `tqdm.tqdm_notebook`\n",
            "  for i in tqdm_notebook(range(2,5)):\n"
          ]
        },
        {
          "output_type": "display_data",
          "data": {
            "text/plain": [
              "  0%|          | 0/3 [00:00<?, ?it/s]"
            ],
            "application/vnd.jupyter.widget-view+json": {
              "version_major": 2,
              "version_minor": 0,
              "model_id": "7f8e23d1c2e64a16bbfd88390fe2bef8"
            }
          },
          "metadata": {}
        },
        {
          "output_type": "display_data",
          "data": {
            "text/plain": [
              "<Figure size 640x480 with 1 Axes>"
            ],
            "image/png": "[encoded data removed]"
          },
          "metadata": {}
        }
      ]
    },
    {
      "cell_type": "code",
      "source": [
        "train_X_polinomial=polinom_transform(new_train_X,num_fetures,2)\n",
        "test_X_polinomial=polinom_transform(new_test_X,num_fetures,2)"
      ],
      "metadata": {
        "id": "q6aw2T4UAVgR"
      },
      "execution_count": 25,
      "outputs": []
    },
    {
      "cell_type": "code",
      "source": [
        "polinomialModel=LinearRegression()\n",
        "polinomialModel.fit(train_X_polinomial,train_y)\n",
        "pred_polinomial=polinomialModel.predict(test_X_polinomial)\n"
      ],
      "metadata": {
        "id": "f2MnlrKAAcA1"
      },
      "execution_count": 26,
      "outputs": []
    },
    {
      "cell_type": "code",
      "source": [
        "pred_polinomial = pd.Series(pred_linear)\n",
        "pred_polinomial = pred_polinomial.apply(lambda x: 0 if x < 0 else x)\n",
        "\n",
        "print('Quality of the polynomial regression model:')\n",
        "print('R2_score: ',round(r2_score(test_y,pred_polinomial),2))\n",
        "print('MSE: ',round(mean_squared_error(test_y,pred_polinomial),2))\n",
        "print('MAE: ',round(mean_absolute_error(test_y,pred_polinomial),2))"
      ],
      "metadata": {
        "colab": {
          "base_uri": "https://localhost:8080/"
        },
        "id": "e7idg1w2AkFm",
        "outputId": "ce01f3d9-f0f3-47e4-88fc-d1f68b90f31f"
      },
      "execution_count": 27,
      "outputs": [
        {
          "output_type": "stream",
          "name": "stdout",
          "text": [
            "Quality of the polynomial regression model:\n",
            "R2_score:  0.01\n",
            "MSE:  9649.39\n",
            "MAE:  23.2\n"
          ]
        }
      ]
    },
    {
      "cell_type": "code",
      "source": [
        "def get_MAE_rf(n_estimators,max_depth=None):\n",
        "    rf_model = RandomForestRegressor(n_estimators=n_estimators,\n",
        "                                     max_depth=max_depth,\n",
        "                                     random_state=0)\n",
        "    scores = cross_val_score(rf_model, train_X, train_y,cv=3,scoring='neg_mean_absolute_error')\n",
        "    return scores.mean()"
      ],
      "metadata": {
        "id": "Z6brgcilAzUU"
      },
      "execution_count": 28,
      "outputs": []
    },
    {
      "cell_type": "code",
      "source": [
        "result_cv = []\n",
        "parameter = []\n",
        "for i in tqdm_notebook(range(3,20,2)):\n",
        "    result_cv.append(get_MAE_rf(n_estimators=20*i))\n",
        "    parameter.append(20*i)\n",
        "    \n",
        "fig, ax = plt.subplots()\n",
        "ax.plot(parameter, result_cv)\n",
        "\n",
        "ax.set(xlabel='n_estimators', ylabel='neg CV MAE')\n",
        "ax.grid()\n",
        "plt.show()"
      ],
      "metadata": {
        "colab": {
          "base_uri": "https://localhost:8080/",
          "height": 534,
          "referenced_widgets": [
            "659a2afe214b4ebab6aa9bfcea8b1ff2",
            "e81bc322c7d741d188c02431f8861550",
            "1230157256264f2aac9b8fcb9d9628fc",
            "5bd12ef536204147a48f73cc5a913862",
            "ed3638a27e91412fad275e86b97c62c4",
            "a455031969fb4c7197870110f8b681f4",
            "f3e3292b773c458e97a81bd715e9200c",
            "98a744cdd2e846a3bee99de32c7ea00c",
            "7a318e1ff86f478cae4615868de0ceb9",
            "c884e1ef5b52475da8610e8681091a40",
            "178a49814c714485a58565decefda821"
          ]
        },
        "id": "OvzJjBf3A56D",
        "outputId": "b4eea8b1-d3fa-4e75-d031-ac6b6dffbfd9"
      },
      "execution_count": 29,
      "outputs": [
        {
          "output_type": "stream",
          "name": "stderr",
          "text": [
            "<ipython-input-29-376ac7b618ce>:3: TqdmDeprecationWarning: This function will be removed in tqdm==5.0.0\n",
            "Please use `tqdm.notebook.tqdm` instead of `tqdm.tqdm_notebook`\n",
            "  for i in tqdm_notebook(range(3,20,2)):\n"
          ]
        },
        {
          "output_type": "display_data",
          "data": {
            "text/plain": [
              "  0%|          | 0/9 [00:00<?, ?it/s]"
            ],
            "application/vnd.jupyter.widget-view+json": {
              "version_major": 2,
              "version_minor": 0,
              "model_id": "659a2afe214b4ebab6aa9bfcea8b1ff2"
            }
          },
          "metadata": {}
        },
        {
          "output_type": "display_data",
          "data": {
            "text/plain": [
              "<Figure size 640x480 with 1 Axes>"
            ],
            "image/png": "[encoded data removed]"
          },
          "metadata": {}
        }
      ]
    },
    {
      "cell_type": "code",
      "source": [
        "result_cv = []\n",
        "parameter = []\n",
        "for i in tqdm_notebook(range(1,10)):\n",
        "    result_cv.append(get_MAE_rf(n_estimators=220,max_depth=i))\n",
        "    parameter.append(i)\n",
        "    \n",
        "fig, ax = plt.subplots()\n",
        "ax.plot(parameter, result_cv)\n",
        "\n",
        "ax.set(xlabel='max_depth', ylabel='neg CV MAE')\n",
        "ax.grid()\n",
        "plt.show()"
      ],
      "metadata": {
        "colab": {
          "base_uri": "https://localhost:8080/",
          "height": 534,
          "referenced_widgets": [
            "f8a8829a66804655b1feec9376210615",
            "e52a96728c424510aaff84629fde90a7",
            "59d4be4324334294a5c99ced484ea99b",
            "1ec9d4003c5b430c897b9e515ac78591",
            "0d77d2b61934413bbaeb9b945a3345f3",
            "cb1e3afd0c0d44a1ac6a11f9a972d27f",
            "40e7ac1b08514239a57acbc0c6e5741a",
            "29d10006431840a8bff301389103ec20",
            "1d1d539e66bc461a9f318c7dd0066868",
            "bac9328a69ed4875982298cff909bad8",
            "d7ec85539e5f45599f73d4d338056899"
          ]
        },
        "id": "a2YYkFemBKzk",
        "outputId": "68b171a2-672e-4588-d816-e20f1572e77a"
      },
      "execution_count": 30,
      "outputs": [
        {
          "output_type": "stream",
          "name": "stderr",
          "text": [
            "<ipython-input-30-af3cb34f30d5>:3: TqdmDeprecationWarning: This function will be removed in tqdm==5.0.0\n",
            "Please use `tqdm.notebook.tqdm` instead of `tqdm.tqdm_notebook`\n",
            "  for i in tqdm_notebook(range(1,10)):\n"
          ]
        },
        {
          "output_type": "display_data",
          "data": {
            "text/plain": [
              "  0%|          | 0/9 [00:00<?, ?it/s]"
            ],
            "application/vnd.jupyter.widget-view+json": {
              "version_major": 2,
              "version_minor": 0,
              "model_id": "f8a8829a66804655b1feec9376210615"
            }
          },
          "metadata": {}
        },
        {
          "output_type": "display_data",
          "data": {
            "text/plain": [
              "<Figure size 640x480 with 1 Axes>"
            ],
            "image/png": "[encoded data removed]"
          },
          "metadata": {}
        }
      ]
    },
    {
      "cell_type": "code",
      "source": [
        "randomForestModel=RandomForestRegressor(n_estimators=220,random_state=0,max_depth=1)\n",
        "randomForestModel.fit(new_train_X, train_y)\n",
        "pred_randomForest=randomForestModel.predict(new_test_X)\n",
        "\n",
        "print('The quality of the random forest model:')\n",
        "print('R2_score: ',round(r2_score(test_y,pred_randomForest),2))\n",
        "print('MSE: ',round(mean_squared_error(test_y,pred_randomForest),2))\n",
        "print('MAE: ',round(mean_absolute_error(test_y,pred_randomForest),2))"
      ],
      "metadata": {
        "colab": {
          "base_uri": "https://localhost:8080/"
        },
        "id": "fwWi6YvXBatl",
        "outputId": "42f55891-c8f3-40cd-d2ec-3969fa4fff14"
      },
      "execution_count": 31,
      "outputs": [
        {
          "output_type": "stream",
          "name": "stdout",
          "text": [
            "The quality of the random forest model:\n",
            "R2_score:  -0.02\n",
            "MSE:  9942.33\n",
            "MAE:  23.32\n"
          ]
        }
      ]
    },
    {
      "cell_type": "code",
      "source": [
        "importances = randomForestModel.feature_importances_\n",
        "features = new_train_X.columns\n",
        "indices = np.argsort(importances)[::-1]\n",
        "print(\"Feature ranking:\")\n",
        "for f in range(new_train_X.shape[1]):\n",
        "    print(\"{} {} {}\".format(f + 1, features[indices[f]-1], importances[indices[f]]))   "
      ],
      "metadata": {
        "colab": {
          "base_uri": "https://localhost:8080/"
        },
        "id": "mCyozUeHBn0H",
        "outputId": "9d43dea8-b1ee-400a-db1f-a99956a37bd4"
      },
      "execution_count": 32,
      "outputs": [
        {
          "output_type": "stream",
          "name": "stdout",
          "text": [
            "Feature ranking:\n",
            "1 rain 0.4954545454545455\n",
            "2 DC 0.18181818181818182\n",
            "3 X 0.17272727272727273\n",
            "4 day_thu 0.031818181818181815\n",
            "5 day_fri 0.01818181818181818\n",
            "6 FFMC 0.01818181818181818\n",
            "7 RH 0.01818181818181818\n",
            "8 month_oct 0.013636363636363636\n",
            "9 ISI 0.013636363636363636\n",
            "10 temp 0.013636363636363636\n",
            "11 month_sep 0.013636363636363636\n",
            "12 DMC 0.00909090909090909\n",
            "13 month_mar 0.0\n",
            "14 day_mon 0.0\n",
            "15 day_sun 0.0\n",
            "16 Y 0.0\n",
            "17 day_tue 0.0\n",
            "18 day_wed 0.0\n",
            "19 month_aug 0.0\n",
            "20 month_dec 0.0\n",
            "21 month_jun 0.0\n",
            "22 wind 0.0\n"
          ]
        }
      ]
    }
  ]
}